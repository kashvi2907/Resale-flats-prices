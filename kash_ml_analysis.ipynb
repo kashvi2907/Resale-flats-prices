{
 "cells": [
  {
   "cell_type": "markdown",
   "id": "8069ea32",
   "metadata": {},
   "source": [
    "# Real life problem: Predicting resale flat prices\n",
    "### lower MSE means better\n",
    "### lower RMSE means better\n",
    "### lower MAE means better\n",
    "### R2 neareer to 1 means better fit"
   ]
  },
  {
   "cell_type": "markdown",
   "id": "be7ad874",
   "metadata": {},
   "source": [
    "## Reading csv file"
   ]
  },
  {
   "cell_type": "code",
   "execution_count": 1,
   "id": "0247d0cb",
   "metadata": {},
   "outputs": [
    {
     "name": "stdout",
     "output_type": "stream",
     "text": [
      "     month        town flat_type block        street_name storey_range  \\\n",
      "0  2017-01  ANG MO KIO    2 ROOM   406  ANG MO KIO AVE 10     10 TO 12   \n",
      "1  2017-01  ANG MO KIO    3 ROOM   108   ANG MO KIO AVE 4     01 TO 03   \n",
      "2  2017-01  ANG MO KIO    3 ROOM   602   ANG MO KIO AVE 5     01 TO 03   \n",
      "3  2017-01  ANG MO KIO    3 ROOM   465  ANG MO KIO AVE 10     04 TO 06   \n",
      "4  2017-01  ANG MO KIO    3 ROOM   601   ANG MO KIO AVE 5     01 TO 03   \n",
      "\n",
      "   floor_area_sqm      flat_model  lease_commence_date     remaining_lease  \\\n",
      "0            44.0        Improved                 1979  61 years 04 months   \n",
      "1            67.0  New Generation                 1978  60 years 07 months   \n",
      "2            67.0  New Generation                 1980  62 years 05 months   \n",
      "3            68.0  New Generation                 1980   62 years 01 month   \n",
      "4            67.0  New Generation                 1980  62 years 05 months   \n",
      "\n",
      "   resale_price  \n",
      "0      232000.0  \n",
      "1      250000.0  \n",
      "2      262000.0  \n",
      "3      265000.0  \n",
      "4      265000.0  \n"
     ]
    }
   ],
   "source": [
    "import pandas as pd\n",
    "\n",
    "# Read the file using Pandas\n",
    "data = pd.read_csv('C:/Users/Admin/Downloads/Telegram Desktop/kash_project.csv')\n",
    "print(data.head())\n",
    "\n"
   ]
  },
  {
   "cell_type": "markdown",
   "id": "c2a66bd4",
   "metadata": {},
   "source": [
    "## Data cleaning"
   ]
  },
  {
   "cell_type": "code",
   "execution_count": 2,
   "id": "238874a5",
   "metadata": {
    "scrolled": false
   },
   "outputs": [
    {
     "name": "stdout",
     "output_type": "stream",
     "text": [
      "Numerical Label to Town Name Mapping:\n",
      "Label 0: ANG MO KIO\n",
      "Label 1: BEDOK\n",
      "Label 2: BISHAN\n",
      "Label 3: BUKIT BATOK\n",
      "Label 4: BUKIT MERAH\n",
      "Label 5: BUKIT PANJANG\n",
      "Label 6: BUKIT TIMAH\n",
      "Label 7: CENTRAL AREA\n",
      "Label 8: CHOA CHU KANG\n",
      "Label 9: CLEMENTI\n",
      "Label 10: GEYLANG\n",
      "Label 11: HOUGANG\n",
      "Label 12: JURONG EAST\n",
      "Label 13: JURONG WEST\n",
      "Label 14: KALLANG/WHAMPOA\n",
      "Label 15: MARINE PARADE\n",
      "Label 16: PASIR RIS\n",
      "Label 17: PUNGGOL\n",
      "Label 18: QUEENSTOWN\n",
      "Label 19: SEMBAWANG\n",
      "Label 20: SENGKANG\n",
      "Label 21: SERANGOON\n",
      "Label 22: TAMPINES\n",
      "Label 23: TOA PAYOH\n",
      "Label 24: WOODLANDS\n",
      "Label 25: YISHUN\n",
      "        floor_area_sqm  resale_price  remaining_months  town_label\n",
      "0                 44.0      232000.0               736           0\n",
      "1                 67.0      250000.0               727           0\n",
      "2                 67.0      262000.0               749           0\n",
      "3                 68.0      265000.0               744           0\n",
      "4                 67.0      265000.0               749           0\n",
      "...                ...           ...               ...         ...\n",
      "173676           142.0      795000.0               755          25\n",
      "173677           146.0      935000.0               754          25\n",
      "173678           146.0      908000.0               755          25\n",
      "173679           146.0      800000.0               756          25\n",
      "173680           164.0      998000.0               755          25\n",
      "\n",
      "[173681 rows x 4 columns]\n"
     ]
    }
   ],
   "source": [
    "import pandas as pd\n",
    "\n",
    "# Assuming 'data' contains your DataFrame data\n",
    "\n",
    "# Creating DataFrame 'df' from 'data'\n",
    "df = pd.DataFrame(data)\n",
    "\n",
    "# Extracting years and months from 'remaining_lease' and converting to total months\n",
    "df['lease_years'] = df['remaining_lease'].str.extract('(\\d+) years', expand=False).astype(float)\n",
    "df['lease_months'] = df['remaining_lease'].str.extract('(\\d+) months', expand=False).astype(float)\n",
    "df['lease_years'].fillna(0, inplace=True)\n",
    "df['lease_months'].fillna(0, inplace=True)\n",
    "df['remaining_months'] = (df['lease_years'] * 12 + df['lease_months']).astype(int)\n",
    "\n",
    "# Splitting 'month' column into 'Year' and 'Month'\n",
    "df[['Year', 'Month']] = df['month'].str.split('-', expand=True)\n",
    "df['Year'] = df['Year'].astype(int)\n",
    "df['Month'] = df['Month'].astype(int)\n",
    "\n",
    "# Convert 'town' column to categorical data type\n",
    "df['town'] = df['town'].astype('category')\n",
    "\n",
    "# Convert categorical labels to numerical labels\n",
    "df['town_label'] = df['town'].cat.codes\n",
    "\n",
    "# Get the unique town names\n",
    "town_names = df['town'].cat.categories\n",
    "\n",
    "# Create a dictionary to map numerical labels to town names\n",
    "label_to_town = {label: town for label, town in enumerate(town_names)}\n",
    "\n",
    "# Print the mapping of numerical labels to town names\n",
    "print(\"Numerical Label to Town Name Mapping:\")\n",
    "for label, town in label_to_town.items():\n",
    "    print(f\"Label {label}: {town}\")\n",
    "\n",
    "# Dropping unwanted columns\n",
    "columns_to_drop = ['lease_years', 'lease_months', 'month', 'block', 'street_name', 'storey_range', 'flat_model', 'lease_commence_date', 'remaining_lease', 'Year', 'Month', 'flat_type', 'town']\n",
    "df.drop(columns=columns_to_drop, inplace=True)\n",
    "\n",
    "# Displaying the DataFrame\n",
    "print(df)\n"
   ]
  },
  {
   "cell_type": "markdown",
   "id": "5210dfa0",
   "metadata": {},
   "source": [
    "## Linear Regression"
   ]
  },
  {
   "cell_type": "code",
   "execution_count": 3,
   "id": "85f8ef31",
   "metadata": {
    "scrolled": true
   },
   "outputs": [
    {
     "name": "stderr",
     "output_type": "stream",
     "text": [
      "C:\\Users\\Admin\\anaconda3\\lib\\site-packages\\scipy\\__init__.py:146: UserWarning: A NumPy version >=1.16.5 and <1.23.0 is required for this version of SciPy (detected version 1.26.4\n",
      "  warnings.warn(f\"A NumPy version >={np_minversion} and <{np_maxversion}\"\n"
     ]
    },
    {
     "name": "stdout",
     "output_type": "stream",
     "text": [
      "Mean Squared Error: 16217908993.805225\n",
      "Root Mean Squared Error: 127349.55435259765\n",
      "Mean Absolute Error: 95481.43861008021\n",
      "R-squared (R2) Score: 0.4509934674970686\n",
      "Predicted price for the new house: [289215.55426954]\n"
     ]
    },
    {
     "data": {
      "image/png": "[encoded data removed]",
      "text/plain": [
       "<Figure size 432x288 with 1 Axes>"
      ]
     },
     "metadata": {
      "needs_background": "light"
     },
     "output_type": "display_data"
    }
   ],
   "source": [
    "import pandas as pd\n",
    "from sklearn.model_selection import train_test_split\n",
    "from sklearn.linear_model import LinearRegression\n",
    "from sklearn.metrics import mean_squared_error, mean_absolute_error, r2_score\n",
    "import matplotlib.pyplot as plt\n",
    "\n",
    "\n",
    "# Now 'town_label' contains numerical labels for 'town'\n",
    "X = df[['floor_area_sqm', 'remaining_months', 'town_label']]\n",
    "y = df['resale_price']\n",
    "\n",
    "# Split the data into training and testing sets\n",
    "X_train, X_test, y_train, y_test = train_test_split(X, y, test_size=0.2, random_state=42)\n",
    "\n",
    "# Create and train the linear regression model\n",
    "model = LinearRegression()\n",
    "model.fit(X_train, y_train)\n",
    "\n",
    "# Make predictions on the testing set\n",
    "predictions = model.predict(X_test)\n",
    "\n",
    "# Calculate mean squared error (MSE)\n",
    "mse = mean_squared_error(y_test, predictions)\n",
    "print(\"Mean Squared Error:\", mse)\n",
    "\n",
    "# Calculate root mean squared error (RMSE)\n",
    "rmse = mean_squared_error(y_test, predictions, squared=False)\n",
    "print(\"Root Mean Squared Error:\", rmse)\n",
    "\n",
    "# Calculate mean absolute error (MAE)\n",
    "mae = mean_absolute_error(y_test, predictions)\n",
    "print(\"Mean Absolute Error:\", mae)\n",
    "\n",
    "# Calculate R-squared (R2) score\n",
    "r2 = r2_score(y_test, predictions)\n",
    "print(\"R-squared (R2) Score:\", r2)\n",
    "\n",
    "# Optionally, make predictions for new data\n",
    "# Example of using the model to predict house prices for new data\n",
    "new_house_features = [[50.0, 736, 3]]  # Example features for a new house in 'ANG MO KIO'\n",
    "predicted_price = model.predict(new_house_features)\n",
    "print(\"Predicted price for the new house:\", predicted_price)\n",
    "\n",
    "# Visualize predictions vs. actual values (optional)\n",
    "plt.scatter(y_test, predictions)\n",
    "plt.xlabel('Actual Values')\n",
    "plt.ylabel('Predicted Values')\n",
    "plt.title('Actual vs. Predicted Values')\n",
    "# Add a diagonal line representing perfect predictions\n",
    "plt.plot([y_test.min(), y_test.max()], [y_test.min(), y_test.max()], color='red', linestyle='--')\n",
    "plt.show()"
   ]
  },
  {
   "cell_type": "markdown",
   "id": "2622c9d5",
   "metadata": {},
   "source": [
    "## Decision Tree"
   ]
  },
  {
   "cell_type": "code",
   "execution_count": 5,
   "id": "a7b622d3",
   "metadata": {},
   "outputs": [
    {
     "name": "stdout",
     "output_type": "stream",
     "text": [
      "Mean Squared Error: 4636823679.206517\n",
      "Root Mean Squared Error: 68094.22647483792\n",
      "Mean Absolute Error: 47266.23705676397\n",
      "R-squared (R2) Score: 0.8430348517234239\n",
      "Predicted price for the new house: [305000.]\n"
     ]
    },
    {
     "data": {
      "image/png": "[encoded data removed]",
      "text/plain": [
       "<Figure size 432x288 with 1 Axes>"
      ]
     },
     "metadata": {
      "needs_background": "light"
     },
     "output_type": "display_data"
    }
   ],
   "source": [
    "import pandas as pd\n",
    "from sklearn.model_selection import train_test_split\n",
    "from sklearn.tree import DecisionTreeRegressor\n",
    "from sklearn.metrics import mean_squared_error, mean_absolute_error, r2_score\n",
    "\n",
    "# Now 'town_label' contains numerical labels for 'town'\n",
    "X = df[['floor_area_sqm', 'remaining_months', 'town_label']]\n",
    "y = df['resale_price']\n",
    "\n",
    "# Split the data into training and testing sets\n",
    "X_train, X_test, y_train, y_test = train_test_split(X, y, test_size=0.2, random_state=42)\n",
    "\n",
    "# Create and train the decision tree model\n",
    "model = DecisionTreeRegressor(random_state=42)\n",
    "model.fit(X_train, y_train)\n",
    "\n",
    "# Make predictions on the testing set\n",
    "predictions = model.predict(X_test)\n",
    "\n",
    "# Calculate mean squared error (MSE)\n",
    "mse = mean_squared_error(y_test, predictions)\n",
    "print(\"Mean Squared Error:\", mse)\n",
    "\n",
    "# Calculate root mean squared error (RMSE)\n",
    "rmse = mean_squared_error(y_test, predictions, squared=False)\n",
    "print(\"Root Mean Squared Error:\", rmse)\n",
    "\n",
    "# Calculate mean absolute error (MAE)\n",
    "mae = mean_absolute_error(y_test, predictions)\n",
    "print(\"Mean Absolute Error:\", mae)\n",
    "\n",
    "# Calculate R-squared (R2) score\n",
    "r2 = r2_score(y_test, predictions)\n",
    "print(\"R-squared (R2) Score:\", r2)\n",
    "\n",
    "# Optionally, make predictions for new data\n",
    "# Example of using the model to predict house prices for new data\n",
    "new_house_features = [[50.0, 736, 0]]  # Example features for a new house in 'ANG MO KIO'\n",
    "predicted_price = model.predict(new_house_features)\n",
    "print(\"Predicted price for the new house:\", predicted_price)\n",
    "\n",
    "# Visualize predictions vs. actual values (optional)\n",
    "plt.scatter(y_test, predictions)\n",
    "plt.xlabel('Actual Values')\n",
    "plt.ylabel('Predicted Values')\n",
    "plt.title('Actual vs. Predicted Values')\n",
    "# Add a diagonal line representing perfect predictions\n",
    "plt.plot([y_test.min(), y_test.max()], [y_test.min(), y_test.max()], color='red', linestyle='--')\n",
    "plt.show()\n"
   ]
  },
  {
   "cell_type": "markdown",
   "id": "f1e37e83",
   "metadata": {},
   "source": [
    "## Neural Network "
   ]
  },
  {
   "cell_type": "code",
   "execution_count": 6,
   "id": "6ad07eba",
   "metadata": {},
   "outputs": [
    {
     "name": "stdout",
     "output_type": "stream",
     "text": [
      "Epoch 1/50\n"
     ]
    },
    {
     "name": "stderr",
     "output_type": "stream",
     "text": [
      "C:\\Users\\Admin\\anaconda3\\lib\\site-packages\\keras\\src\\layers\\core\\dense.py:88: UserWarning: Do not pass an `input_shape`/`input_dim` argument to a layer. When using Sequential models, prefer using an `Input(shape)` object as the first layer in the model instead.\n",
      "  super().__init__(activity_regularizer=activity_regularizer, **kwargs)\n"
     ]
    },
    {
     "name": "stdout",
     "output_type": "stream",
     "text": [
      "\u001b[1m4342/4342\u001b[0m \u001b[32m━━━━━━━━━━━━━━━━━━━━\u001b[0m\u001b[37m\u001b[0m \u001b[1m3s\u001b[0m 614us/step - loss: 240636919808.0000 - val_loss: 43237703680.0000\n",
      "Epoch 2/50\n",
      "\u001b[1m4342/4342\u001b[0m \u001b[32m━━━━━━━━━━━━━━━━━━━━\u001b[0m\u001b[37m\u001b[0m \u001b[1m3s\u001b[0m 600us/step - loss: 28798793728.0000 - val_loss: 17248950272.0000\n",
      "Epoch 3/50\n",
      "\u001b[1m4342/4342\u001b[0m \u001b[32m━━━━━━━━━━━━━━━━━━━━\u001b[0m\u001b[37m\u001b[0m \u001b[1m3s\u001b[0m 591us/step - loss: 16558428160.0000 - val_loss: 15896418304.0000\n",
      "Epoch 4/50\n",
      "\u001b[1m4342/4342\u001b[0m \u001b[32m━━━━━━━━━━━━━━━━━━━━\u001b[0m\u001b[37m\u001b[0m \u001b[1m3s\u001b[0m 579us/step - loss: 15377805312.0000 - val_loss: 15530497024.0000\n",
      "Epoch 5/50\n",
      "\u001b[1m4342/4342\u001b[0m \u001b[32m━━━━━━━━━━━━━━━━━━━━\u001b[0m\u001b[37m\u001b[0m \u001b[1m3s\u001b[0m 579us/step - loss: 15230530560.0000 - val_loss: 15266046976.0000\n",
      "Epoch 6/50\n",
      "\u001b[1m4342/4342\u001b[0m \u001b[32m━━━━━━━━━━━━━━━━━━━━\u001b[0m\u001b[37m\u001b[0m \u001b[1m3s\u001b[0m 581us/step - loss: 15039054848.0000 - val_loss: 15066413056.0000\n",
      "Epoch 7/50\n",
      "\u001b[1m4342/4342\u001b[0m \u001b[32m━━━━━━━━━━━━━━━━━━━━\u001b[0m\u001b[37m\u001b[0m \u001b[1m3s\u001b[0m 635us/step - loss: 14699985920.0000 - val_loss: 14913713152.0000\n",
      "Epoch 8/50\n",
      "\u001b[1m4342/4342\u001b[0m \u001b[32m━━━━━━━━━━━━━━━━━━━━\u001b[0m\u001b[37m\u001b[0m \u001b[1m3s\u001b[0m 695us/step - loss: 14661511168.0000 - val_loss: 14796556288.0000\n",
      "Epoch 9/50\n",
      "\u001b[1m4342/4342\u001b[0m \u001b[32m━━━━━━━━━━━━━━━━━━━━\u001b[0m\u001b[37m\u001b[0m \u001b[1m3s\u001b[0m 658us/step - loss: 14580150272.0000 - val_loss: 14697947136.0000\n",
      "Epoch 10/50\n",
      "\u001b[1m4342/4342\u001b[0m \u001b[32m━━━━━━━━━━━━━━━━━━━━\u001b[0m\u001b[37m\u001b[0m \u001b[1m3s\u001b[0m 669us/step - loss: 14422491136.0000 - val_loss: 14627580928.0000\n",
      "Epoch 11/50\n",
      "\u001b[1m4342/4342\u001b[0m \u001b[32m━━━━━━━━━━━━━━━━━━━━\u001b[0m\u001b[37m\u001b[0m \u001b[1m3s\u001b[0m 620us/step - loss: 14384874496.0000 - val_loss: 14576587776.0000\n",
      "Epoch 12/50\n",
      "\u001b[1m4342/4342\u001b[0m \u001b[32m━━━━━━━━━━━━━━━━━━━━\u001b[0m\u001b[37m\u001b[0m \u001b[1m3s\u001b[0m 600us/step - loss: 14392385536.0000 - val_loss: 14545291264.0000\n",
      "Epoch 13/50\n",
      "\u001b[1m4342/4342\u001b[0m \u001b[32m━━━━━━━━━━━━━━━━━━━━\u001b[0m\u001b[37m\u001b[0m \u001b[1m3s\u001b[0m 594us/step - loss: 14268379136.0000 - val_loss: 14505577472.0000\n",
      "Epoch 14/50\n",
      "\u001b[1m4342/4342\u001b[0m \u001b[32m━━━━━━━━━━━━━━━━━━━━\u001b[0m\u001b[37m\u001b[0m \u001b[1m3s\u001b[0m 599us/step - loss: 14109340672.0000 - val_loss: 14477334528.0000\n",
      "Epoch 15/50\n",
      "\u001b[1m4342/4342\u001b[0m \u001b[32m━━━━━━━━━━━━━━━━━━━━\u001b[0m\u001b[37m\u001b[0m \u001b[1m3s\u001b[0m 597us/step - loss: 14398571520.0000 - val_loss: 14453692416.0000\n",
      "Epoch 16/50\n",
      "\u001b[1m4342/4342\u001b[0m \u001b[32m━━━━━━━━━━━━━━━━━━━━\u001b[0m\u001b[37m\u001b[0m \u001b[1m3s\u001b[0m 596us/step - loss: 14136293376.0000 - val_loss: 14444987392.0000\n",
      "Epoch 17/50\n",
      "\u001b[1m4342/4342\u001b[0m \u001b[32m━━━━━━━━━━━━━━━━━━━━\u001b[0m\u001b[37m\u001b[0m \u001b[1m3s\u001b[0m 589us/step - loss: 14303650816.0000 - val_loss: 14413358080.0000\n",
      "Epoch 18/50\n",
      "\u001b[1m4342/4342\u001b[0m \u001b[32m━━━━━━━━━━━━━━━━━━━━\u001b[0m\u001b[37m\u001b[0m \u001b[1m3s\u001b[0m 599us/step - loss: 14241204224.0000 - val_loss: 14403831808.0000\n",
      "Epoch 19/50\n",
      "\u001b[1m4342/4342\u001b[0m \u001b[32m━━━━━━━━━━━━━━━━━━━━\u001b[0m\u001b[37m\u001b[0m \u001b[1m3s\u001b[0m 579us/step - loss: 14132969472.0000 - val_loss: 14383869952.0000\n",
      "Epoch 20/50\n",
      "\u001b[1m4342/4342\u001b[0m \u001b[32m━━━━━━━━━━━━━━━━━━━━\u001b[0m\u001b[37m\u001b[0m \u001b[1m3s\u001b[0m 595us/step - loss: 14154292224.0000 - val_loss: 14367809536.0000\n",
      "Epoch 21/50\n",
      "\u001b[1m4342/4342\u001b[0m \u001b[32m━━━━━━━━━━━━━━━━━━━━\u001b[0m\u001b[37m\u001b[0m \u001b[1m3s\u001b[0m 593us/step - loss: 14185959424.0000 - val_loss: 14352375808.0000\n",
      "Epoch 22/50\n",
      "\u001b[1m4342/4342\u001b[0m \u001b[32m━━━━━━━━━━━━━━━━━━━━\u001b[0m\u001b[37m\u001b[0m \u001b[1m3s\u001b[0m 588us/step - loss: 13953152000.0000 - val_loss: 14343123968.0000\n",
      "Epoch 23/50\n",
      "\u001b[1m4342/4342\u001b[0m \u001b[32m━━━━━━━━━━━━━━━━━━━━\u001b[0m\u001b[37m\u001b[0m \u001b[1m3s\u001b[0m 603us/step - loss: 14098201600.0000 - val_loss: 14336183296.0000\n",
      "Epoch 24/50\n",
      "\u001b[1m4342/4342\u001b[0m \u001b[32m━━━━━━━━━━━━━━━━━━━━\u001b[0m\u001b[37m\u001b[0m \u001b[1m3s\u001b[0m 583us/step - loss: 14142641152.0000 - val_loss: 14320174080.0000\n",
      "Epoch 25/50\n",
      "\u001b[1m4342/4342\u001b[0m \u001b[32m━━━━━━━━━━━━━━━━━━━━\u001b[0m\u001b[37m\u001b[0m \u001b[1m3s\u001b[0m 604us/step - loss: 14078144512.0000 - val_loss: 14311700480.0000\n",
      "Epoch 26/50\n",
      "\u001b[1m4342/4342\u001b[0m \u001b[32m━━━━━━━━━━━━━━━━━━━━\u001b[0m\u001b[37m\u001b[0m \u001b[1m3s\u001b[0m 602us/step - loss: 14007445504.0000 - val_loss: 14304073728.0000\n",
      "Epoch 27/50\n",
      "\u001b[1m4342/4342\u001b[0m \u001b[32m━━━━━━━━━━━━━━━━━━━━\u001b[0m\u001b[37m\u001b[0m \u001b[1m3s\u001b[0m 591us/step - loss: 14139947008.0000 - val_loss: 14294592512.0000\n",
      "Epoch 28/50\n",
      "\u001b[1m4342/4342\u001b[0m \u001b[32m━━━━━━━━━━━━━━━━━━━━\u001b[0m\u001b[37m\u001b[0m \u001b[1m3s\u001b[0m 583us/step - loss: 14093353984.0000 - val_loss: 14284504064.0000\n",
      "Epoch 29/50\n",
      "\u001b[1m4342/4342\u001b[0m \u001b[32m━━━━━━━━━━━━━━━━━━━━\u001b[0m\u001b[37m\u001b[0m \u001b[1m3s\u001b[0m 581us/step - loss: 14102012928.0000 - val_loss: 14277518336.0000\n",
      "Epoch 30/50\n",
      "\u001b[1m4342/4342\u001b[0m \u001b[32m━━━━━━━━━━━━━━━━━━━━\u001b[0m\u001b[37m\u001b[0m \u001b[1m3s\u001b[0m 585us/step - loss: 14151054336.0000 - val_loss: 14266805248.0000\n",
      "Epoch 31/50\n",
      "\u001b[1m4342/4342\u001b[0m \u001b[32m━━━━━━━━━━━━━━━━━━━━\u001b[0m\u001b[37m\u001b[0m \u001b[1m3s\u001b[0m 593us/step - loss: 14073415680.0000 - val_loss: 14252002304.0000\n",
      "Epoch 32/50\n",
      "\u001b[1m4342/4342\u001b[0m \u001b[32m━━━━━━━━━━━━━━━━━━━━\u001b[0m\u001b[37m\u001b[0m \u001b[1m3s\u001b[0m 592us/step - loss: 14135815168.0000 - val_loss: 14243450880.0000\n",
      "Epoch 33/50\n",
      "\u001b[1m4342/4342\u001b[0m \u001b[32m━━━━━━━━━━━━━━━━━━━━\u001b[0m\u001b[37m\u001b[0m \u001b[1m3s\u001b[0m 587us/step - loss: 14050649088.0000 - val_loss: 14240870400.0000\n",
      "Epoch 34/50\n",
      "\u001b[1m4342/4342\u001b[0m \u001b[32m━━━━━━━━━━━━━━━━━━━━\u001b[0m\u001b[37m\u001b[0m \u001b[1m3s\u001b[0m 583us/step - loss: 13865172992.0000 - val_loss: 14227207168.0000\n",
      "Epoch 35/50\n",
      "\u001b[1m4342/4342\u001b[0m \u001b[32m━━━━━━━━━━━━━━━━━━━━\u001b[0m\u001b[37m\u001b[0m \u001b[1m3s\u001b[0m 592us/step - loss: 13961196544.0000 - val_loss: 14216077312.0000\n",
      "Epoch 36/50\n",
      "\u001b[1m4342/4342\u001b[0m \u001b[32m━━━━━━━━━━━━━━━━━━━━\u001b[0m\u001b[37m\u001b[0m \u001b[1m3s\u001b[0m 582us/step - loss: 13945305088.0000 - val_loss: 14198905856.0000\n",
      "Epoch 37/50\n",
      "\u001b[1m4342/4342\u001b[0m \u001b[32m━━━━━━━━━━━━━━━━━━━━\u001b[0m\u001b[37m\u001b[0m \u001b[1m3s\u001b[0m 590us/step - loss: 13955401728.0000 - val_loss: 14193228800.0000\n",
      "Epoch 38/50\n",
      "\u001b[1m4342/4342\u001b[0m \u001b[32m━━━━━━━━━━━━━━━━━━━━\u001b[0m\u001b[37m\u001b[0m \u001b[1m3s\u001b[0m 583us/step - loss: 13721643008.0000 - val_loss: 14175886336.0000\n",
      "Epoch 39/50\n",
      "\u001b[1m4342/4342\u001b[0m \u001b[32m━━━━━━━━━━━━━━━━━━━━\u001b[0m\u001b[37m\u001b[0m \u001b[1m3s\u001b[0m 586us/step - loss: 13975727104.0000 - val_loss: 14161199104.0000\n",
      "Epoch 40/50\n",
      "\u001b[1m4342/4342\u001b[0m \u001b[32m━━━━━━━━━━━━━━━━━━━━\u001b[0m\u001b[37m\u001b[0m \u001b[1m3s\u001b[0m 590us/step - loss: 13880173568.0000 - val_loss: 14150091776.0000\n",
      "Epoch 41/50\n",
      "\u001b[1m4342/4342\u001b[0m \u001b[32m━━━━━━━━━━━━━━━━━━━━\u001b[0m\u001b[37m\u001b[0m \u001b[1m3s\u001b[0m 580us/step - loss: 13755060224.0000 - val_loss: 14144151552.0000\n",
      "Epoch 42/50\n",
      "\u001b[1m4342/4342\u001b[0m \u001b[32m━━━━━━━━━━━━━━━━━━━━\u001b[0m\u001b[37m\u001b[0m \u001b[1m3s\u001b[0m 583us/step - loss: 13938777088.0000 - val_loss: 14128444416.0000\n",
      "Epoch 43/50\n",
      "\u001b[1m4342/4342\u001b[0m \u001b[32m━━━━━━━━━━━━━━━━━━━━\u001b[0m\u001b[37m\u001b[0m \u001b[1m3s\u001b[0m 577us/step - loss: 13768597504.0000 - val_loss: 14106296320.0000\n",
      "Epoch 44/50\n",
      "\u001b[1m4342/4342\u001b[0m \u001b[32m━━━━━━━━━━━━━━━━━━━━\u001b[0m\u001b[37m\u001b[0m \u001b[1m3s\u001b[0m 586us/step - loss: 13952963584.0000 - val_loss: 14093444096.0000\n",
      "Epoch 45/50\n",
      "\u001b[1m4342/4342\u001b[0m \u001b[32m━━━━━━━━━━━━━━━━━━━━\u001b[0m\u001b[37m\u001b[0m \u001b[1m3s\u001b[0m 585us/step - loss: 13909304320.0000 - val_loss: 14079579136.0000\n",
      "Epoch 46/50\n",
      "\u001b[1m4342/4342\u001b[0m \u001b[32m━━━━━━━━━━━━━━━━━━━━\u001b[0m\u001b[37m\u001b[0m \u001b[1m3s\u001b[0m 589us/step - loss: 13811111936.0000 - val_loss: 14063946752.0000\n",
      "Epoch 47/50\n",
      "\u001b[1m4342/4342\u001b[0m \u001b[32m━━━━━━━━━━━━━━━━━━━━\u001b[0m\u001b[37m\u001b[0m \u001b[1m3s\u001b[0m 585us/step - loss: 13847692288.0000 - val_loss: 14064283648.0000\n",
      "Epoch 48/50\n",
      "\u001b[1m4342/4342\u001b[0m \u001b[32m━━━━━━━━━━━━━━━━━━━━\u001b[0m\u001b[37m\u001b[0m \u001b[1m3s\u001b[0m 585us/step - loss: 13856813056.0000 - val_loss: 14037200896.0000\n",
      "Epoch 49/50\n",
      "\u001b[1m4342/4342\u001b[0m \u001b[32m━━━━━━━━━━━━━━━━━━━━\u001b[0m\u001b[37m\u001b[0m \u001b[1m3s\u001b[0m 588us/step - loss: 13767413760.0000 - val_loss: 14026494976.0000\n",
      "Epoch 50/50\n",
      "\u001b[1m4342/4342\u001b[0m \u001b[32m━━━━━━━━━━━━━━━━━━━━\u001b[0m\u001b[37m\u001b[0m \u001b[1m3s\u001b[0m 584us/step - loss: 13819405312.0000 - val_loss: 14022656000.0000\n",
      "\u001b[1m1086/1086\u001b[0m \u001b[32m━━━━━━━━━━━━━━━━━━━━\u001b[0m\u001b[37m\u001b[0m \u001b[1m1s\u001b[0m 472us/step\n",
      "Mean Squared Error: 14025826642.452623\n",
      "Root Mean Squared Error: 118430.68285901514\n",
      "Mean Absolute Error: 86669.64945684717\n",
      "R-squared (R2) Score: 0.5251995523343096\n",
      "\u001b[1m1/1\u001b[0m \u001b[32m━━━━━━━━━━━━━━━━━━━━\u001b[0m\u001b[37m\u001b[0m \u001b[1m0s\u001b[0m 14ms/step\n",
      "Predicted price for the new house: [[243427.23]]\n"
     ]
    },
    {
     "data": {
      "image/png": "[encoded data removed]",
      "text/plain": [
       "<Figure size 432x288 with 1 Axes>"
      ]
     },
     "metadata": {
      "needs_background": "light"
     },
     "output_type": "display_data"
    }
   ],
   "source": [
    "import pandas as pd\n",
    "from sklearn.model_selection import train_test_split\n",
    "from sklearn.preprocessing import StandardScaler\n",
    "from sklearn.metrics import mean_squared_error, mean_absolute_error, r2_score\n",
    "from keras.models import Sequential\n",
    "from keras.layers import Dense\n",
    "from keras.callbacks import EarlyStopping  # Import EarlyStopping from Keras\n",
    "\n",
    "# Now 'town_label' contains numerical labels for 'town'\n",
    "X = df[['floor_area_sqm', 'remaining_months', 'town_label']]\n",
    "y = df['resale_price']\n",
    "\n",
    "# Split the data into training and testing sets\n",
    "X_train, X_test, y_train, y_test = train_test_split(X, y, test_size=0.2, random_state=42)\n",
    "\n",
    "# Standardize the features\n",
    "scaler = StandardScaler()\n",
    "X_train_scaled = scaler.fit_transform(X_train)\n",
    "X_test_scaled = scaler.transform(X_test)\n",
    "\n",
    "# Build the neural network model\n",
    "model = Sequential()\n",
    "model.add(Dense(64, activation='relu', input_shape=(X_train_scaled.shape[1],)))\n",
    "model.add(Dense(32, activation='relu'))\n",
    "model.add(Dense(1))  # Output layer with a single neuron for regression\n",
    "\n",
    "# Compile the model\n",
    "model.compile(optimizer='adam', loss='mean_squared_error')\n",
    "\n",
    "# Define early stopping callback\n",
    "early_stopping = EarlyStopping(monitor='val_loss', patience=5, restore_best_weights=True)\n",
    "\n",
    "# Train the model with early stopping\n",
    "history = model.fit(X_train_scaled, y_train, epochs=50, batch_size=32, validation_data=(X_test_scaled, y_test), callbacks=[early_stopping], verbose=1)\n",
    "\n",
    "# Evaluate the model\n",
    "predictions = model.predict(X_test_scaled)\n",
    "\n",
    "# Calculate mean squared error (MSE)\n",
    "mse = mean_squared_error(y_test, predictions)\n",
    "print(\"Mean Squared Error:\", mse)\n",
    "\n",
    "# Calculate root mean squared error (RMSE)\n",
    "rmse = mean_squared_error(y_test, predictions, squared=False)\n",
    "print(\"Root Mean Squared Error:\", rmse)\n",
    "\n",
    "# Calculate mean absolute error (MAE)\n",
    "mae = mean_absolute_error(y_test, predictions)\n",
    "print(\"Mean Absolute Error:\", mae)\n",
    "\n",
    "# Calculate R-squared (R2) score\n",
    "r2 = r2_score(y_test, predictions)\n",
    "print(\"R-squared (R2) Score:\", r2)\n",
    "\n",
    "# Optionally, make predictions for new data\n",
    "# Example of using the model to predict house prices for new data\n",
    "new_house_features = [[50.0, 736, 0]]  # Example features for a new house in 'ANG MO KIO'\n",
    "new_house_features_scaled = scaler.transform(new_house_features)\n",
    "predicted_price = model.predict(new_house_features_scaled)\n",
    "print(\"Predicted price for the new house:\", predicted_price)\n",
    "\n",
    "# Visualize predictions vs. actual values (optional)\n",
    "plt.scatter(y_test, predictions)\n",
    "plt.xlabel('Actual Values')\n",
    "plt.ylabel('Predicted Values')\n",
    "plt.title('Actual vs. Predicted Values')\n",
    "# Add a diagonal line representing perfect predictions\n",
    "plt.plot([y_test.min(), y_test.max()], [y_test.min(), y_test.max()], color='red', linestyle='--')\n",
    "plt.show()\n"
   ]
  },
  {
   "cell_type": "code",
   "execution_count": null,
   "id": "340719c2",
   "metadata": {},
   "outputs": [],
   "source": []
  }
 ],
 "metadata": {
  "kernelspec": {
   "display_name": "Python 3 (ipykernel)",
   "language": "python",
   "name": "python3"
  },
  "language_info": {
   "codemirror_mode": {
    "name": "ipython",
    "version": 3
   },
   "file_extension": ".py",
   "mimetype": "text/x-python",
   "name": "python",
   "nbconvert_exporter": "python",
   "pygments_lexer": "ipython3",
   "version": "3.9.7"
  }
 },
 "nbformat": 4,
 "nbformat_minor": 5
}
